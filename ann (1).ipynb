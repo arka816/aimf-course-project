{
  "nbformat": 4,
  "nbformat_minor": 0,
  "metadata": {
    "accelerator": "GPU",
    "colab": {
      "name": "ann.ipynb",
      "provenance": [],
      "collapsed_sections": []
    },
    "kernelspec": {
      "display_name": "Python 3",
      "name": "python3"
    },
    "language_info": {
      "name": "python"
    }
  },
  "cells": [
    {
      "cell_type": "code",
      "metadata": {
        "colab": {
          "base_uri": "https://localhost:8080/"
        },
        "id": "ij7Zln6d1s7r",
        "outputId": "4d4a74cc-e8f9-44f4-dcf6-e6407b3d3365"
      },
      "source": [
        "! pip install lvm_read"
      ],
      "execution_count": 1,
      "outputs": [
        {
          "output_type": "stream",
          "name": "stdout",
          "text": [
            "Collecting lvm_read\n",
            "  Downloading lvm_read-1.20-py3-none-any.whl (4.5 kB)\n",
            "Requirement already satisfied: numpy in /usr/local/lib/python3.7/dist-packages (from lvm_read) (1.19.5)\n",
            "Installing collected packages: lvm-read\n",
            "Successfully installed lvm-read-1.20\n"
          ]
        }
      ]
    },
    {
      "cell_type": "code",
      "metadata": {
        "id": "Uw7Plss7zUOP"
      },
      "source": [
        "import numpy as np\n",
        "import pandas as pd\n",
        "from keras.models import Sequential\n",
        "from keras.layers import Dense, Dropout\n",
        "from tensorflow.keras.utils import to_categorical\n",
        "import lvm_read\n",
        "import random\n",
        "from sklearn.model_selection import train_test_split\n",
        "import matplotlib.pyplot as plt"
      ],
      "execution_count": 3,
      "outputs": []
    },
    {
      "cell_type": "code",
      "metadata": {
        "colab": {
          "base_uri": "https://localhost:8080/"
        },
        "id": "n2Anpg2I2Gzf",
        "outputId": "ce692aa8-3bd0-49bb-81ec-f606f535f83e"
      },
      "source": [
        "cd /content/drive/MyDrive/lvm_csv/"
      ],
      "execution_count": 4,
      "outputs": [
        {
          "output_type": "stream",
          "name": "stdout",
          "text": [
            "/content/drive/MyDrive/lvm_csv\n"
          ]
        }
      ]
    },
    {
      "cell_type": "code",
      "metadata": {
        "id": "oR-6Y2sd2Bgo"
      },
      "source": [
        "lvm0 = lvm_read.read('Vib_Pow_1440_Cage.lvm')\n",
        "lvm1 = lvm_read.read('Vib_Pow_1440_OR.lvm')\n",
        "lvm2 = lvm_read.read('Vib_Pow_1440_IR.lvm')\n",
        "lvm3 = lvm_read.read('Vib_Pow_1440_healthy.lvm')"
      ],
      "execution_count": 5,
      "outputs": []
    },
    {
      "cell_type": "code",
      "metadata": {
        "id": "iwN_913u1Ar3"
      },
      "source": [
        "#for power and Vibration \n",
        "class segmentor:\n",
        "    def __init__(self,sequence_length):\n",
        "        self.X_data = []\n",
        "        self.y_data = []\n",
        "        self.l = sequence_length\n",
        "    def addarray(self, data_t, class_type, n):\n",
        "        done_locations = set()\n",
        "        i = 0\n",
        "        while i < n:\n",
        "            start = random.randint(0,len(data_t)-self.l)\n",
        "            if start not in done_locations:\n",
        "                i+=1\n",
        "                done_locations.add(start)\n",
        "                self.X_data.append(data_t[start:start+self.l])\n",
        "                self.y_data.append(class_type)\n",
        "        pass\n",
        "    def returndata(self):\n",
        "        X_data = np.array(self.X_data)\n",
        "        df = pd.DataFrame(X_data, columns = ['col_'+str(i) for i in range(self.l)]) \n",
        "        df['class'] = self.y_data\n",
        "        df = df.sample(frac=1)\n",
        "        return df"
      ],
      "execution_count": 6,
      "outputs": []
    },
    {
      "cell_type": "markdown",
      "metadata": {
        "id": "vtpd8juz4EvA"
      },
      "source": [
        "# **VIBRATION**"
      ]
    },
    {
      "cell_type": "code",
      "metadata": {
        "id": "OMPqvfOe2-n6"
      },
      "source": [
        "X0 = lvm0[0]['data']\n",
        "data_t1 = X0[:,1]\n",
        "X1 = lvm1[0]['data']\n",
        "data_t2 = X1[:,1]\n",
        "X2 = lvm2[0]['data']\n",
        "data_t3 = X2[:,1]\n",
        "X3 = lvm3[0]['data']\n",
        "data_t4 = X3[:,1]"
      ],
      "execution_count": null,
      "outputs": []
    },
    {
      "cell_type": "code",
      "metadata": {
        "id": "5chEEKUg3Txl"
      },
      "source": [
        "del X0, X1, X2, X3"
      ],
      "execution_count": null,
      "outputs": []
    },
    {
      "cell_type": "code",
      "metadata": {
        "id": "lwyUsl082_VP"
      },
      "source": [
        "seq_length = 50\n",
        "n_samples = 1000000"
      ],
      "execution_count": 57,
      "outputs": []
    },
    {
      "cell_type": "code",
      "metadata": {
        "id": "TGy8BAmk3DgQ"
      },
      "source": [
        "s = segmentor(seq_length)\n",
        "s.addarray(data_t1, 0, n_samples)\n",
        "s.addarray(data_t2, 1, n_samples)\n",
        "s.addarray(data_t3, 2, n_samples)\n",
        "s.addarray(data_t4, 3, n_samples)\n",
        "df = s.returndata()"
      ],
      "execution_count": null,
      "outputs": []
    },
    {
      "cell_type": "code",
      "metadata": {
        "colab": {
          "base_uri": "https://localhost:8080/"
        },
        "id": "mtKSnmB94WuC",
        "outputId": "2a179ba6-99f6-4944-a2b4-e447934c11df"
      },
      "source": [
        "df.columns"
      ],
      "execution_count": null,
      "outputs": [
        {
          "data": {
            "text/plain": [
              "Index(['col_0', 'col_1', 'col_2', 'col_3', 'col_4', 'col_5', 'col_6', 'col_7',\n",
              "       'col_8', 'col_9', 'col_10', 'col_11', 'col_12', 'col_13', 'col_14',\n",
              "       'col_15', 'col_16', 'col_17', 'col_18', 'col_19', 'col_20', 'col_21',\n",
              "       'col_22', 'col_23', 'col_24', 'col_25', 'col_26', 'col_27', 'col_28',\n",
              "       'col_29', 'col_30', 'col_31', 'col_32', 'col_33', 'col_34', 'col_35',\n",
              "       'col_36', 'col_37', 'col_38', 'col_39', 'col_40', 'col_41', 'col_42',\n",
              "       'col_43', 'col_44', 'col_45', 'col_46', 'col_47', 'col_48', 'col_49',\n",
              "       'class'],\n",
              "      dtype='object')"
            ]
          },
          "execution_count": 39,
          "metadata": {},
          "output_type": "execute_result"
        }
      ]
    },
    {
      "cell_type": "code",
      "metadata": {
        "colab": {
          "base_uri": "https://localhost:8080/"
        },
        "id": "DvUlW1Dz8SRU",
        "outputId": "3053f21b-29e9-4268-f545-8025bb31b9ca"
      },
      "source": [
        "y = to_categorical(df['class'])\n",
        "X = df.iloc[:, 0:50].to_numpy()\n",
        "X_train, X_test, y_train, y_test = train_test_split(X, y, test_size=0.20, random_state=42)\n",
        "print(X_train.shape, y_train.shape)"
      ],
      "execution_count": null,
      "outputs": [
        {
          "name": "stdout",
          "output_type": "stream",
          "text": [
            "(3200000, 50) (3200000, 4)\n"
          ]
        }
      ]
    },
    {
      "cell_type": "code",
      "metadata": {
        "id": "lEGArW7i9IUi"
      },
      "source": [
        "n_features = seq_length\n",
        "n_classes = 4\n",
        "\n",
        "model = Sequential()\n",
        "model.add(Dense(128, input_dim=n_features, activation='sigmoid', kernel_initializer='he_normal'))\n",
        "#model.add(Dropout(0.2))\n",
        "model.add(Dense(32, activation='sigmoid', kernel_initializer='he_normal'))\n",
        "model.add(Dense(n_classes, activation = 'softmax'))\n",
        "model.compile(\n",
        "    loss='categorical_crossentropy',\n",
        "    optimizer='Adam',\n",
        "    metrics=['accuracy']\n",
        ")"
      ],
      "execution_count": null,
      "outputs": []
    },
    {
      "cell_type": "code",
      "metadata": {
        "id": "7pLfpcCi9UDm"
      },
      "source": [
        "batch_size = 512\n",
        "epochs = 100"
      ],
      "execution_count": 15,
      "outputs": []
    },
    {
      "cell_type": "code",
      "metadata": {
        "colab": {
          "background_save": true
        },
        "id": "s-zssv_59WUF"
      },
      "source": [
        "history = model.fit(\n",
        "    X_train,\n",
        "    y_train,\n",
        "    validation_split = 0.1,\n",
        "    epochs = epochs,\n",
        "    batch_size = batch_size\n",
        ")"
      ],
      "execution_count": null,
      "outputs": []
    },
    {
      "cell_type": "code",
      "metadata": {
        "id": "PTSTTyHm9Y-h",
        "colab": {
          "base_uri": "https://localhost:8080/",
          "height": 295
        },
        "outputId": "50e7ef27-6b96-4a36-e8a3-b6a490288e53"
      },
      "source": [
        "plt.plot(history.history['accuracy'])\n",
        "plt.plot(history.history['val_accuracy'])\n",
        "plt.title('model accuracy')\n",
        "plt.ylabel('accuracy')\n",
        "plt.xlabel('epoch')\n",
        "plt.legend(['train', 'val'], loc='upper left')\n",
        "plt.show()"
      ],
      "execution_count": 54,
      "outputs": [
        {
          "output_type": "display_data",
          "data": {
            "image/png": "[encoded data removed]",
            "text/plain": [
              "<Figure size 432x288 with 1 Axes>"
            ]
          },
          "metadata": {
            "needs_background": "light"
          }
        }
      ]
    },
    {
      "cell_type": "code",
      "metadata": {
        "colab": {
          "base_uri": "https://localhost:8080/",
          "height": 295
        },
        "id": "pnCtnGDiJERE",
        "outputId": "90bc5e39-37ef-45e6-c6d7-2220c1daa777"
      },
      "source": [
        "plt.plot(history.history['loss'])\n",
        "plt.plot(history.history['val_loss'])\n",
        "plt.title('model loss')\n",
        "plt.ylabel('loss')\n",
        "plt.xlabel('epoch')\n",
        "plt.legend(['train', 'val'], loc='upper left')\n",
        "plt.show()"
      ],
      "execution_count": 55,
      "outputs": [
        {
          "output_type": "display_data",
          "data": {
            "image/png": "[encoded data removed]",
            "text/plain": [
              "<Figure size 432x288 with 1 Axes>"
            ]
          },
          "metadata": {
            "needs_background": "light"
          }
        }
      ]
    },
    {
      "cell_type": "code",
      "metadata": {
        "colab": {
          "base_uri": "https://localhost:8080/"
        },
        "id": "gelmJOivJ-S0",
        "outputId": "296de60d-a687-4706-f491-dee22ce15e5e"
      },
      "source": [
        "model.evaluate(x=X_test, y=y_test)"
      ],
      "execution_count": 56,
      "outputs": [
        {
          "output_type": "stream",
          "name": "stdout",
          "text": [
            "25000/25000 [==============================] - 89s 4ms/step - loss: 0.0856 - accuracy: 0.9688\n"
          ]
        },
        {
          "output_type": "execute_result",
          "data": {
            "text/plain": [
              "[0.08563217520713806, 0.9688037633895874]"
            ]
          },
          "metadata": {},
          "execution_count": 56
        }
      ]
    },
    {
      "cell_type": "markdown",
      "metadata": {
        "id": "6557MXsDLJFu"
      },
      "source": [
        "# **POWER**"
      ]
    },
    {
      "cell_type": "code",
      "metadata": {
        "id": "9d_knprNLIKM"
      },
      "source": [
        "X0 = lvm0[0]['data']\n",
        "data_t1 = X0[:,3]\n",
        "X1 = lvm1[0]['data']\n",
        "data_t2 = X1[:,3]\n",
        "X2 = lvm2[0]['data']\n",
        "data_t3 = X2[:,3]\n",
        "X3 = lvm3[0]['data']\n",
        "data_t4 = X3[:,3]"
      ],
      "execution_count": 7,
      "outputs": []
    },
    {
      "cell_type": "code",
      "metadata": {
        "id": "WSzpDI-9Ldok"
      },
      "source": [
        "del X0, X1, X2, X3"
      ],
      "execution_count": 8,
      "outputs": []
    },
    {
      "cell_type": "code",
      "metadata": {
        "id": "sxFZaV-uolwX"
      },
      "source": [
        "seq_length = 250\n",
        "n_samples = 200000"
      ],
      "execution_count": 9,
      "outputs": []
    },
    {
      "cell_type": "code",
      "metadata": {
        "id": "dFDUP4YyLeM9"
      },
      "source": [
        "s = segmentor(seq_length)\n",
        "s.addarray(data_t1, 0, n_samples)\n",
        "s.addarray(data_t2, 1, n_samples)\n",
        "s.addarray(data_t3, 2, n_samples)\n",
        "s.addarray(data_t4, 3, n_samples)\n",
        "df = s.returndata()"
      ],
      "execution_count": 10,
      "outputs": []
    },
    {
      "cell_type": "code",
      "metadata": {
        "colab": {
          "base_uri": "https://localhost:8080/"
        },
        "id": "Xj4Uqa5jLjue",
        "outputId": "4a1286f6-0e88-4838-9d4e-5fa7fe7b4fa4"
      },
      "source": [
        "y = to_categorical(df['class'])\n",
        "X = df.iloc[:, 0:seq_length].to_numpy()\n",
        "X_train, X_test, y_train, y_test = train_test_split(X, y, test_size=0.20, random_state=42)\n",
        "print(X_train.shape, y_train.shape)"
      ],
      "execution_count": 12,
      "outputs": [
        {
          "output_type": "stream",
          "name": "stdout",
          "text": [
            "(640000, 250) (640000, 4)\n"
          ]
        }
      ]
    },
    {
      "cell_type": "code",
      "metadata": {
        "id": "WBkoZc4yLqah"
      },
      "source": [
        "n_features = seq_length\n",
        "n_classes = 4\n",
        "\n",
        "model_power = Sequential()\n",
        "model_power.add(Dense(128, input_dim=n_features, activation='sigmoid', kernel_initializer='he_normal'))\n",
        "model_power.add(Dense(32, activation='sigmoid', kernel_initializer='he_normal'))\n",
        "model_power.add(Dense(n_classes, activation = 'softmax'))\n",
        "model_power.compile(\n",
        "    loss='categorical_crossentropy',\n",
        "    optimizer='Adam',\n",
        "    metrics=['accuracy']\n",
        ")"
      ],
      "execution_count": 13,
      "outputs": []
    },
    {
      "cell_type": "code",
      "metadata": {
        "colab": {
          "base_uri": "https://localhost:8080/"
        },
        "id": "4UKMuul6L2vO",
        "outputId": "8e213f10-a1dc-48a7-c35b-44475412cd9f"
      },
      "source": [
        "history_power = model_power.fit(\n",
        "    X_train,\n",
        "    y_train,\n",
        "    validation_split = 0.1,\n",
        "    epochs = epochs,\n",
        "    batch_size = batch_size\n",
        ")"
      ],
      "execution_count": 16,
      "outputs": [
        {
          "output_type": "stream",
          "name": "stdout",
          "text": [
            "Epoch 1/100\n",
            "1125/1125 [==============================] - 7s 4ms/step - loss: 0.6796 - accuracy: 0.6585 - val_loss: 0.5617 - val_accuracy: 0.6950\n",
            "Epoch 2/100\n",
            "1125/1125 [==============================] - 4s 4ms/step - loss: 0.5612 - accuracy: 0.7048 - val_loss: 0.5564 - val_accuracy: 0.7153\n",
            "Epoch 3/100\n",
            "1125/1125 [==============================] - 4s 4ms/step - loss: 0.5582 - accuracy: 0.7051 - val_loss: 0.5537 - val_accuracy: 0.7064\n",
            "Epoch 4/100\n",
            "1125/1125 [==============================] - 4s 4ms/step - loss: 0.5554 - accuracy: 0.7049 - val_loss: 0.5516 - val_accuracy: 0.7020\n",
            "Epoch 5/100\n",
            "1125/1125 [==============================] - 4s 4ms/step - loss: 0.5527 - accuracy: 0.7052 - val_loss: 0.5525 - val_accuracy: 0.7178\n",
            "Epoch 6/100\n",
            "1125/1125 [==============================] - 4s 4ms/step - loss: 0.5500 - accuracy: 0.7052 - val_loss: 0.5474 - val_accuracy: 0.7031\n",
            "Epoch 7/100\n",
            "1125/1125 [==============================] - 4s 4ms/step - loss: 0.5486 - accuracy: 0.7044 - val_loss: 0.5468 - val_accuracy: 0.7122\n",
            "Epoch 8/100\n",
            "1125/1125 [==============================] - 4s 4ms/step - loss: 0.5475 - accuracy: 0.7037 - val_loss: 0.5459 - val_accuracy: 0.7033\n",
            "Epoch 9/100\n",
            "1125/1125 [==============================] - 4s 4ms/step - loss: 0.5470 - accuracy: 0.7039 - val_loss: 0.5454 - val_accuracy: 0.7045\n",
            "Epoch 10/100\n",
            "1125/1125 [==============================] - 4s 4ms/step - loss: 0.5464 - accuracy: 0.7036 - val_loss: 0.5449 - val_accuracy: 0.7078\n",
            "Epoch 11/100\n",
            "1125/1125 [==============================] - 4s 4ms/step - loss: 0.5460 - accuracy: 0.7032 - val_loss: 0.5452 - val_accuracy: 0.7138\n",
            "Epoch 12/100\n",
            "1125/1125 [==============================] - 4s 4ms/step - loss: 0.5451 - accuracy: 0.7035 - val_loss: 0.5479 - val_accuracy: 0.7228\n",
            "Epoch 13/100\n",
            "1125/1125 [==============================] - 4s 4ms/step - loss: 0.5445 - accuracy: 0.7035 - val_loss: 0.5441 - val_accuracy: 0.7137\n",
            "Epoch 14/100\n",
            "1125/1125 [==============================] - 4s 4ms/step - loss: 0.5439 - accuracy: 0.7039 - val_loss: 0.5432 - val_accuracy: 0.6973\n",
            "Epoch 15/100\n",
            "1125/1125 [==============================] - 4s 4ms/step - loss: 0.5428 - accuracy: 0.7044 - val_loss: 0.5418 - val_accuracy: 0.7018\n",
            "Epoch 16/100\n",
            "1125/1125 [==============================] - 4s 4ms/step - loss: 0.5419 - accuracy: 0.7052 - val_loss: 0.5406 - val_accuracy: 0.7075\n",
            "Epoch 17/100\n",
            "1125/1125 [==============================] - 4s 4ms/step - loss: 0.5406 - accuracy: 0.7062 - val_loss: 0.5402 - val_accuracy: 0.6976\n",
            "Epoch 18/100\n",
            "1125/1125 [==============================] - 5s 4ms/step - loss: 0.5390 - accuracy: 0.7072 - val_loss: 0.5375 - val_accuracy: 0.7153\n",
            "Epoch 19/100\n",
            "1125/1125 [==============================] - 4s 4ms/step - loss: 0.5368 - accuracy: 0.7094 - val_loss: 0.5351 - val_accuracy: 0.7178\n",
            "Epoch 20/100\n",
            "1125/1125 [==============================] - 4s 4ms/step - loss: 0.5342 - accuracy: 0.7122 - val_loss: 0.5324 - val_accuracy: 0.7194\n",
            "Epoch 21/100\n",
            "1125/1125 [==============================] - 4s 4ms/step - loss: 0.5306 - accuracy: 0.7164 - val_loss: 0.5283 - val_accuracy: 0.7238\n",
            "Epoch 22/100\n",
            "1125/1125 [==============================] - 5s 4ms/step - loss: 0.5267 - accuracy: 0.7202 - val_loss: 0.5248 - val_accuracy: 0.7280\n",
            "Epoch 23/100\n",
            "1125/1125 [==============================] - 4s 4ms/step - loss: 0.5223 - accuracy: 0.7237 - val_loss: 0.5200 - val_accuracy: 0.7273\n",
            "Epoch 24/100\n",
            "1125/1125 [==============================] - 5s 4ms/step - loss: 0.5175 - accuracy: 0.7255 - val_loss: 0.5145 - val_accuracy: 0.7280\n",
            "Epoch 25/100\n",
            "1125/1125 [==============================] - 5s 4ms/step - loss: 0.5117 - accuracy: 0.7275 - val_loss: 0.5084 - val_accuracy: 0.7268\n",
            "Epoch 26/100\n",
            "1125/1125 [==============================] - 4s 4ms/step - loss: 0.5062 - accuracy: 0.7334 - val_loss: 0.5033 - val_accuracy: 0.7337\n",
            "Epoch 27/100\n",
            "1125/1125 [==============================] - 4s 4ms/step - loss: 0.5016 - accuracy: 0.7407 - val_loss: 0.4995 - val_accuracy: 0.7434\n",
            "Epoch 28/100\n",
            "1125/1125 [==============================] - 4s 4ms/step - loss: 0.4978 - accuracy: 0.7451 - val_loss: 0.4957 - val_accuracy: 0.7476\n",
            "Epoch 29/100\n",
            "1125/1125 [==============================] - 4s 4ms/step - loss: 0.4947 - accuracy: 0.7462 - val_loss: 0.4940 - val_accuracy: 0.7476\n",
            "Epoch 30/100\n",
            "1125/1125 [==============================] - 4s 4ms/step - loss: 0.4919 - accuracy: 0.7477 - val_loss: 0.4938 - val_accuracy: 0.7457\n",
            "Epoch 31/100\n",
            "1125/1125 [==============================] - 4s 4ms/step - loss: 0.4898 - accuracy: 0.7479 - val_loss: 0.4897 - val_accuracy: 0.7455\n",
            "Epoch 32/100\n",
            "1125/1125 [==============================] - 4s 4ms/step - loss: 0.4880 - accuracy: 0.7480 - val_loss: 0.4874 - val_accuracy: 0.7472\n",
            "Epoch 33/100\n",
            "1125/1125 [==============================] - 4s 4ms/step - loss: 0.4865 - accuracy: 0.7485 - val_loss: 0.4874 - val_accuracy: 0.7471\n",
            "Epoch 34/100\n",
            "1125/1125 [==============================] - 4s 4ms/step - loss: 0.4852 - accuracy: 0.7488 - val_loss: 0.4856 - val_accuracy: 0.7479\n",
            "Epoch 35/100\n",
            "1125/1125 [==============================] - 4s 4ms/step - loss: 0.4841 - accuracy: 0.7489 - val_loss: 0.4846 - val_accuracy: 0.7493\n",
            "Epoch 36/100\n",
            "1125/1125 [==============================] - 4s 4ms/step - loss: 0.4836 - accuracy: 0.7489 - val_loss: 0.4843 - val_accuracy: 0.7477\n",
            "Epoch 37/100\n",
            "1125/1125 [==============================] - 4s 4ms/step - loss: 0.4829 - accuracy: 0.7491 - val_loss: 0.4836 - val_accuracy: 0.7507\n",
            "Epoch 38/100\n",
            "1125/1125 [==============================] - 4s 4ms/step - loss: 0.4821 - accuracy: 0.7493 - val_loss: 0.4862 - val_accuracy: 0.7470\n",
            "Epoch 39/100\n",
            "1125/1125 [==============================] - 4s 4ms/step - loss: 0.4824 - accuracy: 0.7491 - val_loss: 0.4931 - val_accuracy: 0.7437\n",
            "Epoch 40/100\n",
            "1125/1125 [==============================] - 4s 4ms/step - loss: 0.4816 - accuracy: 0.7492 - val_loss: 0.4821 - val_accuracy: 0.7495\n",
            "Epoch 41/100\n",
            "1125/1125 [==============================] - 4s 4ms/step - loss: 0.4811 - accuracy: 0.7497 - val_loss: 0.4819 - val_accuracy: 0.7500\n",
            "Epoch 42/100\n",
            "1125/1125 [==============================] - 5s 4ms/step - loss: 0.4809 - accuracy: 0.7496 - val_loss: 0.4821 - val_accuracy: 0.7506\n",
            "Epoch 43/100\n",
            "1125/1125 [==============================] - 4s 4ms/step - loss: 0.4809 - accuracy: 0.7496 - val_loss: 0.4848 - val_accuracy: 0.7480\n",
            "Epoch 44/100\n",
            "1125/1125 [==============================] - 4s 4ms/step - loss: 0.4807 - accuracy: 0.7495 - val_loss: 0.4817 - val_accuracy: 0.7489\n",
            "Epoch 45/100\n",
            "1125/1125 [==============================] - 4s 4ms/step - loss: 0.4802 - accuracy: 0.7498 - val_loss: 0.4858 - val_accuracy: 0.7473\n",
            "Epoch 46/100\n",
            "1125/1125 [==============================] - 4s 4ms/step - loss: 0.4804 - accuracy: 0.7492 - val_loss: 0.4834 - val_accuracy: 0.7479\n",
            "Epoch 47/100\n",
            "1125/1125 [==============================] - 5s 4ms/step - loss: 0.4797 - accuracy: 0.7495 - val_loss: 0.4832 - val_accuracy: 0.7481\n",
            "Epoch 48/100\n",
            "1125/1125 [==============================] - 4s 4ms/step - loss: 0.4797 - accuracy: 0.7500 - val_loss: 0.4804 - val_accuracy: 0.7506\n",
            "Epoch 49/100\n",
            "1125/1125 [==============================] - 5s 4ms/step - loss: 0.4795 - accuracy: 0.7496 - val_loss: 0.4812 - val_accuracy: 0.7489\n",
            "Epoch 50/100\n",
            "1125/1125 [==============================] - 4s 4ms/step - loss: 0.4793 - accuracy: 0.7494 - val_loss: 0.4818 - val_accuracy: 0.7481\n",
            "Epoch 51/100\n",
            "1125/1125 [==============================] - 5s 4ms/step - loss: 0.4792 - accuracy: 0.7497 - val_loss: 0.4803 - val_accuracy: 0.7499\n",
            "Epoch 52/100\n",
            "1125/1125 [==============================] - 4s 4ms/step - loss: 0.4791 - accuracy: 0.7500 - val_loss: 0.4807 - val_accuracy: 0.7499\n",
            "Epoch 53/100\n",
            "1125/1125 [==============================] - 5s 4ms/step - loss: 0.4791 - accuracy: 0.7498 - val_loss: 0.4832 - val_accuracy: 0.7477\n",
            "Epoch 54/100\n",
            "1125/1125 [==============================] - 5s 4ms/step - loss: 0.4788 - accuracy: 0.7500 - val_loss: 0.4812 - val_accuracy: 0.7489\n",
            "Epoch 55/100\n",
            "1125/1125 [==============================] - 4s 4ms/step - loss: 0.4785 - accuracy: 0.7500 - val_loss: 0.4817 - val_accuracy: 0.7494\n",
            "Epoch 56/100\n",
            "1125/1125 [==============================] - 5s 4ms/step - loss: 0.4789 - accuracy: 0.7499 - val_loss: 0.4799 - val_accuracy: 0.7501\n",
            "Epoch 57/100\n",
            "1125/1125 [==============================] - 4s 4ms/step - loss: 0.4788 - accuracy: 0.7497 - val_loss: 0.4811 - val_accuracy: 0.7498\n",
            "Epoch 58/100\n",
            "1125/1125 [==============================] - 4s 4ms/step - loss: 0.4788 - accuracy: 0.7500 - val_loss: 0.4799 - val_accuracy: 0.7504\n",
            "Epoch 59/100\n",
            "1125/1125 [==============================] - 4s 4ms/step - loss: 0.4785 - accuracy: 0.7501 - val_loss: 0.4796 - val_accuracy: 0.7484\n",
            "Epoch 60/100\n",
            "1125/1125 [==============================] - 5s 4ms/step - loss: 0.4782 - accuracy: 0.7502 - val_loss: 0.4791 - val_accuracy: 0.7504\n",
            "Epoch 61/100\n",
            "1125/1125 [==============================] - 5s 4ms/step - loss: 0.4780 - accuracy: 0.7501 - val_loss: 0.4812 - val_accuracy: 0.7499\n",
            "Epoch 62/100\n",
            "1125/1125 [==============================] - 4s 4ms/step - loss: 0.4779 - accuracy: 0.7500 - val_loss: 0.4818 - val_accuracy: 0.7488\n",
            "Epoch 63/100\n",
            "1125/1125 [==============================] - 4s 4ms/step - loss: 0.4779 - accuracy: 0.7499 - val_loss: 0.4845 - val_accuracy: 0.7469\n",
            "Epoch 64/100\n",
            "1125/1125 [==============================] - 5s 4ms/step - loss: 0.4777 - accuracy: 0.7499 - val_loss: 0.4808 - val_accuracy: 0.7487\n",
            "Epoch 65/100\n",
            "1125/1125 [==============================] - 5s 4ms/step - loss: 0.4778 - accuracy: 0.7500 - val_loss: 0.4811 - val_accuracy: 0.7486\n",
            "Epoch 66/100\n",
            "1125/1125 [==============================] - 5s 4ms/step - loss: 0.4774 - accuracy: 0.7503 - val_loss: 0.4802 - val_accuracy: 0.7490\n",
            "Epoch 67/100\n",
            "1125/1125 [==============================] - 4s 4ms/step - loss: 0.4775 - accuracy: 0.7501 - val_loss: 0.4799 - val_accuracy: 0.7490\n",
            "Epoch 68/100\n",
            "1125/1125 [==============================] - 5s 4ms/step - loss: 0.4776 - accuracy: 0.7498 - val_loss: 0.4830 - val_accuracy: 0.7475\n",
            "Epoch 69/100\n",
            "1125/1125 [==============================] - 4s 4ms/step - loss: 0.4774 - accuracy: 0.7500 - val_loss: 0.4790 - val_accuracy: 0.7496\n",
            "Epoch 70/100\n",
            "1125/1125 [==============================] - 4s 4ms/step - loss: 0.4771 - accuracy: 0.7502 - val_loss: 0.4785 - val_accuracy: 0.7505\n",
            "Epoch 71/100\n",
            "1125/1125 [==============================] - 4s 4ms/step - loss: 0.4771 - accuracy: 0.7504 - val_loss: 0.4790 - val_accuracy: 0.7491\n",
            "Epoch 72/100\n",
            "1125/1125 [==============================] - 5s 4ms/step - loss: 0.4769 - accuracy: 0.7502 - val_loss: 0.4807 - val_accuracy: 0.7488\n",
            "Epoch 73/100\n",
            "1125/1125 [==============================] - 5s 4ms/step - loss: 0.4770 - accuracy: 0.7500 - val_loss: 0.4796 - val_accuracy: 0.7493\n",
            "Epoch 74/100\n",
            "1125/1125 [==============================] - 4s 4ms/step - loss: 0.4767 - accuracy: 0.7505 - val_loss: 0.4785 - val_accuracy: 0.7504\n",
            "Epoch 75/100\n",
            "1125/1125 [==============================] - 4s 4ms/step - loss: 0.4766 - accuracy: 0.7504 - val_loss: 0.4798 - val_accuracy: 0.7489\n",
            "Epoch 76/100\n",
            "1125/1125 [==============================] - 4s 4ms/step - loss: 0.4769 - accuracy: 0.7501 - val_loss: 0.4803 - val_accuracy: 0.7500\n",
            "Epoch 77/100\n",
            "1125/1125 [==============================] - 4s 4ms/step - loss: 0.4770 - accuracy: 0.7503 - val_loss: 0.4779 - val_accuracy: 0.7506\n",
            "Epoch 78/100\n",
            "1125/1125 [==============================] - 4s 4ms/step - loss: 0.4769 - accuracy: 0.7500 - val_loss: 0.4778 - val_accuracy: 0.7504\n",
            "Epoch 79/100\n",
            "1125/1125 [==============================] - 5s 4ms/step - loss: 0.4767 - accuracy: 0.7504 - val_loss: 0.4803 - val_accuracy: 0.7490\n",
            "Epoch 80/100\n",
            "1125/1125 [==============================] - 4s 4ms/step - loss: 0.4768 - accuracy: 0.7501 - val_loss: 0.4784 - val_accuracy: 0.7497\n",
            "Epoch 81/100\n",
            "1125/1125 [==============================] - 5s 4ms/step - loss: 0.4766 - accuracy: 0.7504 - val_loss: 0.4799 - val_accuracy: 0.7491\n",
            "Epoch 82/100\n",
            "1125/1125 [==============================] - 5s 4ms/step - loss: 0.4764 - accuracy: 0.7504 - val_loss: 0.4805 - val_accuracy: 0.7482\n",
            "Epoch 83/100\n",
            "1125/1125 [==============================] - 4s 4ms/step - loss: 0.4766 - accuracy: 0.7503 - val_loss: 0.4824 - val_accuracy: 0.7479\n",
            "Epoch 84/100\n",
            "1125/1125 [==============================] - 4s 4ms/step - loss: 0.4765 - accuracy: 0.7505 - val_loss: 0.4788 - val_accuracy: 0.7501\n",
            "Epoch 85/100\n",
            "1125/1125 [==============================] - 5s 4ms/step - loss: 0.4764 - accuracy: 0.7502 - val_loss: 0.4786 - val_accuracy: 0.7493\n",
            "Epoch 86/100\n",
            "1125/1125 [==============================] - 5s 4ms/step - loss: 0.4767 - accuracy: 0.7503 - val_loss: 0.4778 - val_accuracy: 0.7499\n",
            "Epoch 87/100\n",
            "1125/1125 [==============================] - 5s 4ms/step - loss: 0.4761 - accuracy: 0.7503 - val_loss: 0.4777 - val_accuracy: 0.7501\n",
            "Epoch 88/100\n",
            "1125/1125 [==============================] - 5s 4ms/step - loss: 0.4763 - accuracy: 0.7506 - val_loss: 0.4780 - val_accuracy: 0.7499\n",
            "Epoch 89/100\n",
            "1125/1125 [==============================] - 4s 4ms/step - loss: 0.4762 - accuracy: 0.7503 - val_loss: 0.4782 - val_accuracy: 0.7505\n",
            "Epoch 90/100\n",
            "1125/1125 [==============================] - 5s 4ms/step - loss: 0.4762 - accuracy: 0.7504 - val_loss: 0.4805 - val_accuracy: 0.7486\n",
            "Epoch 91/100\n",
            "1125/1125 [==============================] - 5s 4ms/step - loss: 0.4763 - accuracy: 0.7503 - val_loss: 0.4795 - val_accuracy: 0.7500\n",
            "Epoch 92/100\n",
            "1125/1125 [==============================] - 5s 4ms/step - loss: 0.4759 - accuracy: 0.7506 - val_loss: 0.4779 - val_accuracy: 0.7498\n",
            "Epoch 93/100\n",
            "1125/1125 [==============================] - 5s 4ms/step - loss: 0.4761 - accuracy: 0.7504 - val_loss: 0.4782 - val_accuracy: 0.7500\n",
            "Epoch 94/100\n",
            "1125/1125 [==============================] - 5s 4ms/step - loss: 0.4761 - accuracy: 0.7504 - val_loss: 0.4793 - val_accuracy: 0.7492\n",
            "Epoch 95/100\n",
            "1125/1125 [==============================] - 5s 4ms/step - loss: 0.4759 - accuracy: 0.7508 - val_loss: 0.4777 - val_accuracy: 0.7502\n",
            "Epoch 96/100\n",
            "1125/1125 [==============================] - 5s 4ms/step - loss: 0.4759 - accuracy: 0.7503 - val_loss: 0.4772 - val_accuracy: 0.7503\n",
            "Epoch 97/100\n",
            "1125/1125 [==============================] - 5s 4ms/step - loss: 0.4757 - accuracy: 0.7508 - val_loss: 0.4778 - val_accuracy: 0.7500\n",
            "Epoch 98/100\n",
            "1125/1125 [==============================] - 5s 4ms/step - loss: 0.4760 - accuracy: 0.7505 - val_loss: 0.4777 - val_accuracy: 0.7508\n",
            "Epoch 99/100\n",
            "1125/1125 [==============================] - 5s 4ms/step - loss: 0.4758 - accuracy: 0.7507 - val_loss: 0.4775 - val_accuracy: 0.7510\n",
            "Epoch 100/100\n",
            "1125/1125 [==============================] - 5s 4ms/step - loss: 0.4756 - accuracy: 0.7509 - val_loss: 0.4793 - val_accuracy: 0.7497\n"
          ]
        }
      ]
    },
    {
      "cell_type": "code",
      "metadata": {
        "colab": {
          "base_uri": "https://localhost:8080/",
          "height": 295
        },
        "id": "ftWGLqpFL9zY",
        "outputId": "bfb31224-5b44-48a7-f612-e25182472162"
      },
      "source": [
        "plt.plot(history_power.history['accuracy'])\n",
        "plt.plot(history_power.history['val_accuracy'])\n",
        "plt.title('model accuracy')\n",
        "plt.ylabel('accuracy')\n",
        "plt.xlabel('epoch')\n",
        "plt.legend(['train', 'val'], loc='upper left')\n",
        "plt.show()"
      ],
      "execution_count": 17,
      "outputs": [
        {
          "output_type": "display_data",
          "data": {
            "image/png": "[encoded data removed]",
            "text/plain": [
              "<Figure size 432x288 with 1 Axes>"
            ]
          },
          "metadata": {
            "needs_background": "light"
          }
        }
      ]
    },
    {
      "cell_type": "code",
      "metadata": {
        "colab": {
          "base_uri": "https://localhost:8080/",
          "height": 295
        },
        "id": "gRdVg81uqJDq",
        "outputId": "a6f6b0c1-87ba-4b3c-d407-01d9669e4794"
      },
      "source": [
        "plt.plot(history_power.history['loss'])\n",
        "plt.plot(history_power.history['val_loss'])\n",
        "plt.title('model loss')\n",
        "plt.ylabel('loss')\n",
        "plt.xlabel('epoch')\n",
        "plt.legend(['train', 'val'], loc='upper left')\n",
        "plt.show()"
      ],
      "execution_count": 18,
      "outputs": [
        {
          "output_type": "display_data",
          "data": {
            "image/png": "[encoded data removed]",
            "text/plain": [
              "<Figure size 432x288 with 1 Axes>"
            ]
          },
          "metadata": {
            "needs_background": "light"
          }
        }
      ]
    },
    {
      "cell_type": "code",
      "metadata": {
        "colab": {
          "base_uri": "https://localhost:8080/"
        },
        "id": "vOuqoLIhqMtu",
        "outputId": "0179399c-bc23-46a5-d93f-97558bb9a109"
      },
      "source": [
        "model_power.evaluate(x=X_test, y=y_test)"
      ],
      "execution_count": 19,
      "outputs": [
        {
          "output_type": "stream",
          "name": "stdout",
          "text": [
            "5000/5000 [==============================] - 16s 3ms/step - loss: 0.4786 - accuracy: 0.7490\n"
          ]
        },
        {
          "output_type": "execute_result",
          "data": {
            "text/plain": [
              "[0.4785938858985901, 0.7489687204360962]"
            ]
          },
          "metadata": {},
          "execution_count": 19
        }
      ]
    }
  ]
}